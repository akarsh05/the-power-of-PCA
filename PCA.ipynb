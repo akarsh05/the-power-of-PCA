{
 "cells": [
  {
   "cell_type": "code",
   "execution_count": null,
   "metadata": {},
   "outputs": [],
   "source": [
    "# Refer the README file on GitHub"
   ]
  },
  {
   "cell_type": "code",
   "execution_count": 84,
   "metadata": {},
   "outputs": [],
   "source": [
    "import numpy as np\n",
    "import pandas as pd\n",
    "import matplotlib.pyplot as plt\n",
    "import seaborn as sns\n",
    "from sklearn.preprocessing import StandardScaler\n",
    "from sklearn.decomposition import PCA"
   ]
  },
  {
   "cell_type": "code",
   "execution_count": 85,
   "metadata": {},
   "outputs": [],
   "source": [
    "# set a seed to generate reproducible results\n",
    "np.random.seed(1)\n",
    "\n",
    "# 1000 random data points between 0 and 10\n",
    "random_data = np.random.rand(1000)*10"
   ]
  },
  {
   "cell_type": "code",
   "execution_count": 86,
   "metadata": {},
   "outputs": [
    {
     "data": {
      "text/plain": [
       "(1000,)"
      ]
     },
     "execution_count": 86,
     "metadata": {},
     "output_type": "execute_result"
    }
   ],
   "source": [
    "random_data.shape"
   ]
  },
  {
   "cell_type": "code",
   "execution_count": 87,
   "metadata": {},
   "outputs": [
    {
     "data": {
      "text/plain": [
       "<matplotlib.axes._subplots.AxesSubplot at 0x2571c8a9d90>"
      ]
     },
     "execution_count": 87,
     "metadata": {},
     "output_type": "execute_result"
    },
    {
     "data": {
      "image/png": "[encoded data removed]",
      "text/plain": [
       "<Figure size 1080x432 with 1 Axes>"
      ]
     },
     "metadata": {
      "needs_background": "light"
     },
     "output_type": "display_data"
    }
   ],
   "source": [
    "# Set the width and height of the figure\n",
    "plt.figure(figsize=(15,6))\n",
    "\n",
    "#plot a histogram of the generated random_data\n",
    "sns.distplot(a=random_data, bins=1000, kde=False)"
   ]
  },
  {
   "cell_type": "code",
   "execution_count": 88,
   "metadata": {},
   "outputs": [],
   "source": [
    "# creating input features\n",
    "# create a dict where each consecutive column is as a sequetial power of the random_data we generated.\n",
    "column_data = {}\n",
    "for i in range(10):\n",
    "    column_data[i] = random_data**(i+1)"
   ]
  },
  {
   "cell_type": "code",
   "execution_count": 89,
   "metadata": {},
   "outputs": [],
   "source": [
    "df = pd.DataFrame(column_data)"
   ]
  },
  {
   "cell_type": "code",
   "execution_count": 90,
   "metadata": {},
   "outputs": [
    {
     "data": {
      "text/html": [
       "<div>\n",
       "<style scoped>\n",
       "    .dataframe tbody tr th:only-of-type {\n",
       "        vertical-align: middle;\n",
       "    }\n",
       "\n",
       "    .dataframe tbody tr th {\n",
       "        vertical-align: top;\n",
       "    }\n",
       "\n",
       "    .dataframe thead th {\n",
       "        text-align: right;\n",
       "    }\n",
       "</style>\n",
       "<table border=\"1\" class=\"dataframe\">\n",
       "  <thead>\n",
       "    <tr style=\"text-align: right;\">\n",
       "      <th></th>\n",
       "      <th>0</th>\n",
       "      <th>1</th>\n",
       "      <th>2</th>\n",
       "      <th>3</th>\n",
       "      <th>4</th>\n",
       "      <th>5</th>\n",
       "      <th>6</th>\n",
       "      <th>7</th>\n",
       "      <th>8</th>\n",
       "      <th>9</th>\n",
       "    </tr>\n",
       "  </thead>\n",
       "  <tbody>\n",
       "    <tr>\n",
       "      <th>0</th>\n",
       "      <td>4.170220</td>\n",
       "      <td>17.390735</td>\n",
       "      <td>7.252319e+01</td>\n",
       "      <td>3.024377e+02</td>\n",
       "      <td>1.261232e+03</td>\n",
       "      <td>5.259613e+03</td>\n",
       "      <td>2.193375e+04</td>\n",
       "      <td>9.146855e+04</td>\n",
       "      <td>3.814440e+05</td>\n",
       "      <td>1.590705e+06</td>\n",
       "    </tr>\n",
       "    <tr>\n",
       "      <th>1</th>\n",
       "      <td>7.203245</td>\n",
       "      <td>51.886738</td>\n",
       "      <td>3.737529e+02</td>\n",
       "      <td>2.692234e+03</td>\n",
       "      <td>1.939282e+04</td>\n",
       "      <td>1.396912e+05</td>\n",
       "      <td>1.006230e+06</td>\n",
       "      <td>7.248121e+06</td>\n",
       "      <td>5.220999e+07</td>\n",
       "      <td>3.760814e+08</td>\n",
       "    </tr>\n",
       "    <tr>\n",
       "      <th>2</th>\n",
       "      <td>0.001144</td>\n",
       "      <td>0.000001</td>\n",
       "      <td>1.496205e-09</td>\n",
       "      <td>1.711282e-12</td>\n",
       "      <td>1.957276e-15</td>\n",
       "      <td>2.238631e-18</td>\n",
       "      <td>2.560430e-21</td>\n",
       "      <td>2.928487e-24</td>\n",
       "      <td>3.349452e-27</td>\n",
       "      <td>3.830929e-30</td>\n",
       "    </tr>\n",
       "    <tr>\n",
       "      <th>3</th>\n",
       "      <td>3.023326</td>\n",
       "      <td>9.140498</td>\n",
       "      <td>2.763470e+01</td>\n",
       "      <td>8.354871e+01</td>\n",
       "      <td>2.525950e+02</td>\n",
       "      <td>7.636769e+02</td>\n",
       "      <td>2.308844e+03</td>\n",
       "      <td>6.980387e+03</td>\n",
       "      <td>2.110398e+04</td>\n",
       "      <td>6.380422e+04</td>\n",
       "    </tr>\n",
       "    <tr>\n",
       "      <th>4</th>\n",
       "      <td>1.467559</td>\n",
       "      <td>2.153729</td>\n",
       "      <td>3.160724e+00</td>\n",
       "      <td>4.638549e+00</td>\n",
       "      <td>6.807344e+00</td>\n",
       "      <td>9.990179e+00</td>\n",
       "      <td>1.466118e+01</td>\n",
       "      <td>2.151614e+01</td>\n",
       "      <td>3.157620e+01</td>\n",
       "      <td>4.633994e+01</td>\n",
       "    </tr>\n",
       "  </tbody>\n",
       "</table>\n",
       "</div>"
      ],
      "text/plain": [
       "          0          1             2             3             4  \\\n",
       "0  4.170220  17.390735  7.252319e+01  3.024377e+02  1.261232e+03   \n",
       "1  7.203245  51.886738  3.737529e+02  2.692234e+03  1.939282e+04   \n",
       "2  0.001144   0.000001  1.496205e-09  1.711282e-12  1.957276e-15   \n",
       "3  3.023326   9.140498  2.763470e+01  8.354871e+01  2.525950e+02   \n",
       "4  1.467559   2.153729  3.160724e+00  4.638549e+00  6.807344e+00   \n",
       "\n",
       "              5             6             7             8             9  \n",
       "0  5.259613e+03  2.193375e+04  9.146855e+04  3.814440e+05  1.590705e+06  \n",
       "1  1.396912e+05  1.006230e+06  7.248121e+06  5.220999e+07  3.760814e+08  \n",
       "2  2.238631e-18  2.560430e-21  2.928487e-24  3.349452e-27  3.830929e-30  \n",
       "3  7.636769e+02  2.308844e+03  6.980387e+03  2.110398e+04  6.380422e+04  \n",
       "4  9.990179e+00  1.466118e+01  2.151614e+01  3.157620e+01  4.633994e+01  "
      ]
     },
     "execution_count": 90,
     "metadata": {},
     "output_type": "execute_result"
    }
   ],
   "source": [
    "df.head()"
   ]
  },
  {
   "cell_type": "code",
   "execution_count": 91,
   "metadata": {},
   "outputs": [
    {
     "data": {
      "text/html": [
       "<div>\n",
       "<style scoped>\n",
       "    .dataframe tbody tr th:only-of-type {\n",
       "        vertical-align: middle;\n",
       "    }\n",
       "\n",
       "    .dataframe tbody tr th {\n",
       "        vertical-align: top;\n",
       "    }\n",
       "\n",
       "    .dataframe thead th {\n",
       "        text-align: right;\n",
       "    }\n",
       "</style>\n",
       "<table border=\"1\" class=\"dataframe\">\n",
       "  <thead>\n",
       "    <tr style=\"text-align: right;\">\n",
       "      <th></th>\n",
       "      <th>0</th>\n",
       "      <th>1</th>\n",
       "      <th>2</th>\n",
       "      <th>3</th>\n",
       "      <th>4</th>\n",
       "      <th>5</th>\n",
       "      <th>6</th>\n",
       "      <th>7</th>\n",
       "      <th>8</th>\n",
       "      <th>9</th>\n",
       "    </tr>\n",
       "  </thead>\n",
       "  <tbody>\n",
       "    <tr>\n",
       "      <th>count</th>\n",
       "      <td>1000.000000</td>\n",
       "      <td>1000.000000</td>\n",
       "      <td>1.000000e+03</td>\n",
       "      <td>1.000000e+03</td>\n",
       "      <td>1.000000e+03</td>\n",
       "      <td>1.000000e+03</td>\n",
       "      <td>1.000000e+03</td>\n",
       "      <td>1.000000e+03</td>\n",
       "      <td>1.000000e+03</td>\n",
       "      <td>1.000000e+03</td>\n",
       "    </tr>\n",
       "    <tr>\n",
       "      <th>mean</th>\n",
       "      <td>5.006046</td>\n",
       "      <td>33.375435</td>\n",
       "      <td>2.497517e+02</td>\n",
       "      <td>1.992427e+03</td>\n",
       "      <td>1.655771e+04</td>\n",
       "      <td>1.415612e+05</td>\n",
       "      <td>1.235796e+06</td>\n",
       "      <td>1.096189e+07</td>\n",
       "      <td>9.846957e+07</td>\n",
       "      <td>8.936245e+08</td>\n",
       "    </tr>\n",
       "    <tr>\n",
       "      <th>std</th>\n",
       "      <td>2.885006</td>\n",
       "      <td>29.654450</td>\n",
       "      <td>2.815395e+02</td>\n",
       "      <td>2.645585e+03</td>\n",
       "      <td>2.490154e+04</td>\n",
       "      <td>2.353690e+05</td>\n",
       "      <td>2.234666e+06</td>\n",
       "      <td>2.130481e+07</td>\n",
       "      <td>2.038662e+08</td>\n",
       "      <td>1.957129e+09</td>\n",
       "    </tr>\n",
       "    <tr>\n",
       "      <th>min</th>\n",
       "      <td>0.001144</td>\n",
       "      <td>0.000001</td>\n",
       "      <td>1.496205e-09</td>\n",
       "      <td>1.711282e-12</td>\n",
       "      <td>1.957276e-15</td>\n",
       "      <td>2.238631e-18</td>\n",
       "      <td>2.560430e-21</td>\n",
       "      <td>2.928487e-24</td>\n",
       "      <td>3.349452e-27</td>\n",
       "      <td>3.830929e-30</td>\n",
       "    </tr>\n",
       "    <tr>\n",
       "      <th>25%</th>\n",
       "      <td>2.519346</td>\n",
       "      <td>6.347107</td>\n",
       "      <td>1.599057e+01</td>\n",
       "      <td>4.028584e+01</td>\n",
       "      <td>1.014942e+02</td>\n",
       "      <td>2.556995e+02</td>\n",
       "      <td>6.441972e+02</td>\n",
       "      <td>1.622961e+03</td>\n",
       "      <td>4.088815e+03</td>\n",
       "      <td>1.030118e+04</td>\n",
       "    </tr>\n",
       "    <tr>\n",
       "      <th>50%</th>\n",
       "      <td>5.075008</td>\n",
       "      <td>25.755725</td>\n",
       "      <td>1.307107e+02</td>\n",
       "      <td>6.633592e+02</td>\n",
       "      <td>3.366563e+03</td>\n",
       "      <td>1.708539e+04</td>\n",
       "      <td>8.670886e+04</td>\n",
       "      <td>4.400503e+05</td>\n",
       "      <td>2.233271e+06</td>\n",
       "      <td>1.133394e+07</td>\n",
       "    </tr>\n",
       "    <tr>\n",
       "      <th>75%</th>\n",
       "      <td>7.506713</td>\n",
       "      <td>56.350735</td>\n",
       "      <td>4.230088e+02</td>\n",
       "      <td>3.175406e+03</td>\n",
       "      <td>2.383686e+04</td>\n",
       "      <td>1.789365e+05</td>\n",
       "      <td>1.343225e+06</td>\n",
       "      <td>1.008320e+07</td>\n",
       "      <td>7.569171e+07</td>\n",
       "      <td>5.681960e+08</td>\n",
       "    </tr>\n",
       "    <tr>\n",
       "      <th>max</th>\n",
       "      <td>9.973229</td>\n",
       "      <td>99.465287</td>\n",
       "      <td>9.919900e+02</td>\n",
       "      <td>9.893343e+03</td>\n",
       "      <td>9.866857e+04</td>\n",
       "      <td>9.840442e+05</td>\n",
       "      <td>9.814098e+06</td>\n",
       "      <td>9.787824e+07</td>\n",
       "      <td>9.761621e+08</td>\n",
       "      <td>9.735487e+09</td>\n",
       "    </tr>\n",
       "  </tbody>\n",
       "</table>\n",
       "</div>"
      ],
      "text/plain": [
       "                 0            1             2             3             4  \\\n",
       "count  1000.000000  1000.000000  1.000000e+03  1.000000e+03  1.000000e+03   \n",
       "mean      5.006046    33.375435  2.497517e+02  1.992427e+03  1.655771e+04   \n",
       "std       2.885006    29.654450  2.815395e+02  2.645585e+03  2.490154e+04   \n",
       "min       0.001144     0.000001  1.496205e-09  1.711282e-12  1.957276e-15   \n",
       "25%       2.519346     6.347107  1.599057e+01  4.028584e+01  1.014942e+02   \n",
       "50%       5.075008    25.755725  1.307107e+02  6.633592e+02  3.366563e+03   \n",
       "75%       7.506713    56.350735  4.230088e+02  3.175406e+03  2.383686e+04   \n",
       "max       9.973229    99.465287  9.919900e+02  9.893343e+03  9.866857e+04   \n",
       "\n",
       "                  5             6             7             8             9  \n",
       "count  1.000000e+03  1.000000e+03  1.000000e+03  1.000000e+03  1.000000e+03  \n",
       "mean   1.415612e+05  1.235796e+06  1.096189e+07  9.846957e+07  8.936245e+08  \n",
       "std    2.353690e+05  2.234666e+06  2.130481e+07  2.038662e+08  1.957129e+09  \n",
       "min    2.238631e-18  2.560430e-21  2.928487e-24  3.349452e-27  3.830929e-30  \n",
       "25%    2.556995e+02  6.441972e+02  1.622961e+03  4.088815e+03  1.030118e+04  \n",
       "50%    1.708539e+04  8.670886e+04  4.400503e+05  2.233271e+06  1.133394e+07  \n",
       "75%    1.789365e+05  1.343225e+06  1.008320e+07  7.569171e+07  5.681960e+08  \n",
       "max    9.840442e+05  9.814098e+06  9.787824e+07  9.761621e+08  9.735487e+09  "
      ]
     },
     "execution_count": 91,
     "metadata": {},
     "output_type": "execute_result"
    }
   ],
   "source": [
    "# summary statistics for the dataframe\n",
    "df.describe()"
   ]
  },
  {
   "cell_type": "code",
   "execution_count": 92,
   "metadata": {},
   "outputs": [
    {
     "data": {
      "text/plain": [
       "<matplotlib.axes._subplots.AxesSubplot at 0x2571df1c8e0>"
      ]
     },
     "execution_count": 92,
     "metadata": {},
     "output_type": "execute_result"
    },
    {
     "data": {
      "image/png": "[encoded data removed]",
      "text/plain": [
       "<Figure size 648x504 with 2 Axes>"
      ]
     },
     "metadata": {
      "needs_background": "light"
     },
     "output_type": "display_data"
    }
   ],
   "source": [
    "# check correlation between the features\n",
    "\n",
    "plt.figure(figsize=(9,7))\n",
    "\n",
    "corr = df.corr()\n",
    "sns.heatmap(corr, annot=True)#, xticklabels=corr.columns, yticklables=corr.columns)"
   ]
  },
  {
   "cell_type": "code",
   "execution_count": 111,
   "metadata": {},
   "outputs": [
    {
     "data": {
      "text/plain": [
       "0    2.092469e+06\n",
       "1    4.367079e+08\n",
       "2    1.145058e-03\n",
       "3    9.533705e+04\n",
       "4    1.423115e+02\n",
       "dtype: float64"
      ]
     },
     "execution_count": 111,
     "metadata": {},
     "output_type": "execute_result"
    }
   ],
   "source": [
    "# lets create a target variable y, which is the sum of all columns in a row for the df.\n",
    "\n",
    "y = df.sum(axis=1)\n",
    "y.head()"
   ]
  },
  {
   "cell_type": "code",
   "execution_count": 113,
   "metadata": {},
   "outputs": [],
   "source": [
    "# Divide the data into training and validation subsets\n",
    "\n",
    "from sklearn.model_selection import train_test_split\n",
    "\n",
    "X_train, X_valid, y_train, y_valid = train_test_split(df, y, train_size=0.8, test_size=0.2, random_state=1)"
   ]
  },
  {
   "cell_type": "code",
   "execution_count": 148,
   "metadata": {},
   "outputs": [],
   "source": [
    "# standardize features for PCA\n",
    "\n",
    "scaler = StandardScaler()\n",
    "X_train_scaled = pd.DataFrame(scaler.fit_transform(X_train))\n",
    "X_valid_scaled = pd.DataFrame(scaler.transform(X_valid))"
   ]
  },
  {
   "cell_type": "code",
   "execution_count": 116,
   "metadata": {},
   "outputs": [
    {
     "data": {
      "text/html": [
       "<style  type=\"text/css\" >\n",
       "    #T_93271574_ad49_11ec_86b9_fc777461c7earow1_col0 {\n",
       "            background:  lightgreen;\n",
       "        }    #T_93271574_ad49_11ec_86b9_fc777461c7earow1_col1 {\n",
       "            background:  lightgreen;\n",
       "        }    #T_93271574_ad49_11ec_86b9_fc777461c7earow1_col2 {\n",
       "            background:  lightgreen;\n",
       "        }    #T_93271574_ad49_11ec_86b9_fc777461c7earow1_col3 {\n",
       "            background:  lightgreen;\n",
       "        }    #T_93271574_ad49_11ec_86b9_fc777461c7earow1_col4 {\n",
       "            background:  lightgreen;\n",
       "        }    #T_93271574_ad49_11ec_86b9_fc777461c7earow1_col5 {\n",
       "            background:  lightgreen;\n",
       "        }    #T_93271574_ad49_11ec_86b9_fc777461c7earow1_col6 {\n",
       "            background:  lightgreen;\n",
       "        }    #T_93271574_ad49_11ec_86b9_fc777461c7earow1_col7 {\n",
       "            background:  lightgreen;\n",
       "        }    #T_93271574_ad49_11ec_86b9_fc777461c7earow1_col8 {\n",
       "            background:  lightgreen;\n",
       "        }    #T_93271574_ad49_11ec_86b9_fc777461c7earow1_col9 {\n",
       "            background:  lightgreen;\n",
       "        }    #T_93271574_ad49_11ec_86b9_fc777461c7earow2_col0 {\n",
       "            background:  lightgreen;\n",
       "        }    #T_93271574_ad49_11ec_86b9_fc777461c7earow2_col1 {\n",
       "            background:  lightgreen;\n",
       "        }    #T_93271574_ad49_11ec_86b9_fc777461c7earow2_col2 {\n",
       "            background:  lightgreen;\n",
       "        }    #T_93271574_ad49_11ec_86b9_fc777461c7earow2_col3 {\n",
       "            background:  lightgreen;\n",
       "        }    #T_93271574_ad49_11ec_86b9_fc777461c7earow2_col4 {\n",
       "            background:  lightgreen;\n",
       "        }    #T_93271574_ad49_11ec_86b9_fc777461c7earow2_col5 {\n",
       "            background:  lightgreen;\n",
       "        }    #T_93271574_ad49_11ec_86b9_fc777461c7earow2_col6 {\n",
       "            background:  lightgreen;\n",
       "        }    #T_93271574_ad49_11ec_86b9_fc777461c7earow2_col7 {\n",
       "            background:  lightgreen;\n",
       "        }    #T_93271574_ad49_11ec_86b9_fc777461c7earow2_col8 {\n",
       "            background:  lightgreen;\n",
       "        }    #T_93271574_ad49_11ec_86b9_fc777461c7earow2_col9 {\n",
       "            background:  lightgreen;\n",
       "        }</style><table id=\"T_93271574_ad49_11ec_86b9_fc777461c7ea\" ><thead>    <tr>        <th class=\"blank level0\" ></th>        <th class=\"col_heading level0 col0\" >0</th>        <th class=\"col_heading level0 col1\" >1</th>        <th class=\"col_heading level0 col2\" >2</th>        <th class=\"col_heading level0 col3\" >3</th>        <th class=\"col_heading level0 col4\" >4</th>        <th class=\"col_heading level0 col5\" >5</th>        <th class=\"col_heading level0 col6\" >6</th>        <th class=\"col_heading level0 col7\" >7</th>        <th class=\"col_heading level0 col8\" >8</th>        <th class=\"col_heading level0 col9\" >9</th>    </tr></thead><tbody>\n",
       "                <tr>\n",
       "                        <th id=\"T_93271574_ad49_11ec_86b9_fc777461c7ealevel0_row0\" class=\"row_heading level0 row0\" >count</th>\n",
       "                        <td id=\"T_93271574_ad49_11ec_86b9_fc777461c7earow0_col0\" class=\"data row0 col0\" >800.000000</td>\n",
       "                        <td id=\"T_93271574_ad49_11ec_86b9_fc777461c7earow0_col1\" class=\"data row0 col1\" >800.000000</td>\n",
       "                        <td id=\"T_93271574_ad49_11ec_86b9_fc777461c7earow0_col2\" class=\"data row0 col2\" >800.000000</td>\n",
       "                        <td id=\"T_93271574_ad49_11ec_86b9_fc777461c7earow0_col3\" class=\"data row0 col3\" >800.000000</td>\n",
       "                        <td id=\"T_93271574_ad49_11ec_86b9_fc777461c7earow0_col4\" class=\"data row0 col4\" >800.000000</td>\n",
       "                        <td id=\"T_93271574_ad49_11ec_86b9_fc777461c7earow0_col5\" class=\"data row0 col5\" >800.000000</td>\n",
       "                        <td id=\"T_93271574_ad49_11ec_86b9_fc777461c7earow0_col6\" class=\"data row0 col6\" >800.000000</td>\n",
       "                        <td id=\"T_93271574_ad49_11ec_86b9_fc777461c7earow0_col7\" class=\"data row0 col7\" >800.000000</td>\n",
       "                        <td id=\"T_93271574_ad49_11ec_86b9_fc777461c7earow0_col8\" class=\"data row0 col8\" >800.000000</td>\n",
       "                        <td id=\"T_93271574_ad49_11ec_86b9_fc777461c7earow0_col9\" class=\"data row0 col9\" >800.000000</td>\n",
       "            </tr>\n",
       "            <tr>\n",
       "                        <th id=\"T_93271574_ad49_11ec_86b9_fc777461c7ealevel0_row1\" class=\"row_heading level0 row1\" >mean</th>\n",
       "                        <td id=\"T_93271574_ad49_11ec_86b9_fc777461c7earow1_col0\" class=\"data row1 col0\" >0.000000</td>\n",
       "                        <td id=\"T_93271574_ad49_11ec_86b9_fc777461c7earow1_col1\" class=\"data row1 col1\" >0.000000</td>\n",
       "                        <td id=\"T_93271574_ad49_11ec_86b9_fc777461c7earow1_col2\" class=\"data row1 col2\" >0.000000</td>\n",
       "                        <td id=\"T_93271574_ad49_11ec_86b9_fc777461c7earow1_col3\" class=\"data row1 col3\" >-0.000000</td>\n",
       "                        <td id=\"T_93271574_ad49_11ec_86b9_fc777461c7earow1_col4\" class=\"data row1 col4\" >-0.000000</td>\n",
       "                        <td id=\"T_93271574_ad49_11ec_86b9_fc777461c7earow1_col5\" class=\"data row1 col5\" >-0.000000</td>\n",
       "                        <td id=\"T_93271574_ad49_11ec_86b9_fc777461c7earow1_col6\" class=\"data row1 col6\" >0.000000</td>\n",
       "                        <td id=\"T_93271574_ad49_11ec_86b9_fc777461c7earow1_col7\" class=\"data row1 col7\" >0.000000</td>\n",
       "                        <td id=\"T_93271574_ad49_11ec_86b9_fc777461c7earow1_col8\" class=\"data row1 col8\" >-0.000000</td>\n",
       "                        <td id=\"T_93271574_ad49_11ec_86b9_fc777461c7earow1_col9\" class=\"data row1 col9\" >0.000000</td>\n",
       "            </tr>\n",
       "            <tr>\n",
       "                        <th id=\"T_93271574_ad49_11ec_86b9_fc777461c7ealevel0_row2\" class=\"row_heading level0 row2\" >std</th>\n",
       "                        <td id=\"T_93271574_ad49_11ec_86b9_fc777461c7earow2_col0\" class=\"data row2 col0\" >1.000626</td>\n",
       "                        <td id=\"T_93271574_ad49_11ec_86b9_fc777461c7earow2_col1\" class=\"data row2 col1\" >1.000626</td>\n",
       "                        <td id=\"T_93271574_ad49_11ec_86b9_fc777461c7earow2_col2\" class=\"data row2 col2\" >1.000626</td>\n",
       "                        <td id=\"T_93271574_ad49_11ec_86b9_fc777461c7earow2_col3\" class=\"data row2 col3\" >1.000626</td>\n",
       "                        <td id=\"T_93271574_ad49_11ec_86b9_fc777461c7earow2_col4\" class=\"data row2 col4\" >1.000626</td>\n",
       "                        <td id=\"T_93271574_ad49_11ec_86b9_fc777461c7earow2_col5\" class=\"data row2 col5\" >1.000626</td>\n",
       "                        <td id=\"T_93271574_ad49_11ec_86b9_fc777461c7earow2_col6\" class=\"data row2 col6\" >1.000626</td>\n",
       "                        <td id=\"T_93271574_ad49_11ec_86b9_fc777461c7earow2_col7\" class=\"data row2 col7\" >1.000626</td>\n",
       "                        <td id=\"T_93271574_ad49_11ec_86b9_fc777461c7earow2_col8\" class=\"data row2 col8\" >1.000626</td>\n",
       "                        <td id=\"T_93271574_ad49_11ec_86b9_fc777461c7earow2_col9\" class=\"data row2 col9\" >1.000626</td>\n",
       "            </tr>\n",
       "            <tr>\n",
       "                        <th id=\"T_93271574_ad49_11ec_86b9_fc777461c7ealevel0_row3\" class=\"row_heading level0 row3\" >min</th>\n",
       "                        <td id=\"T_93271574_ad49_11ec_86b9_fc777461c7earow3_col0\" class=\"data row3 col0\" >-1.744154</td>\n",
       "                        <td id=\"T_93271574_ad49_11ec_86b9_fc777461c7earow3_col1\" class=\"data row3 col1\" >-1.132948</td>\n",
       "                        <td id=\"T_93271574_ad49_11ec_86b9_fc777461c7earow3_col2\" class=\"data row3 col2\" >-0.895968</td>\n",
       "                        <td id=\"T_93271574_ad49_11ec_86b9_fc777461c7earow3_col3\" class=\"data row3 col3\" >-0.762622</td>\n",
       "                        <td id=\"T_93271574_ad49_11ec_86b9_fc777461c7earow3_col4\" class=\"data row3 col4\" >-0.674541</td>\n",
       "                        <td id=\"T_93271574_ad49_11ec_86b9_fc777461c7earow3_col5\" class=\"data row3 col5\" >-0.610901</td>\n",
       "                        <td id=\"T_93271574_ad49_11ec_86b9_fc777461c7earow3_col6\" class=\"data row3 col6\" >-0.562192</td>\n",
       "                        <td id=\"T_93271574_ad49_11ec_86b9_fc777461c7earow3_col7\" class=\"data row3 col7\" >-0.523384</td>\n",
       "                        <td id=\"T_93271574_ad49_11ec_86b9_fc777461c7earow3_col8\" class=\"data row3 col8\" >-0.491542</td>\n",
       "                        <td id=\"T_93271574_ad49_11ec_86b9_fc777461c7earow3_col9\" class=\"data row3 col9\" >-0.464825</td>\n",
       "            </tr>\n",
       "            <tr>\n",
       "                        <th id=\"T_93271574_ad49_11ec_86b9_fc777461c7ealevel0_row4\" class=\"row_heading level0 row4\" >25%</th>\n",
       "                        <td id=\"T_93271574_ad49_11ec_86b9_fc777461c7earow4_col0\" class=\"data row4 col0\" >-0.884494</td>\n",
       "                        <td id=\"T_93271574_ad49_11ec_86b9_fc777461c7earow4_col1\" class=\"data row4 col1\" >-0.925387</td>\n",
       "                        <td id=\"T_93271574_ad49_11ec_86b9_fc777461c7earow4_col2\" class=\"data row4 col2\" >-0.841613</td>\n",
       "                        <td id=\"T_93271574_ad49_11ec_86b9_fc777461c7earow4_col3\" class=\"data row4 col3\" >-0.748234</td>\n",
       "                        <td id=\"T_93271574_ad49_11ec_86b9_fc777461c7earow4_col4\" class=\"data row4 col4\" >-0.670738</td>\n",
       "                        <td id=\"T_93271574_ad49_11ec_86b9_fc777461c7earow4_col5\" class=\"data row4 col5\" >-0.609900</td>\n",
       "                        <td id=\"T_93271574_ad49_11ec_86b9_fc777461c7earow4_col6\" class=\"data row4 col6\" >-0.561929</td>\n",
       "                        <td id=\"T_93271574_ad49_11ec_86b9_fc777461c7earow4_col7\" class=\"data row4 col7\" >-0.523316</td>\n",
       "                        <td id=\"T_93271574_ad49_11ec_86b9_fc777461c7earow4_col8\" class=\"data row4 col8\" >-0.491525</td>\n",
       "                        <td id=\"T_93271574_ad49_11ec_86b9_fc777461c7earow4_col9\" class=\"data row4 col9\" >-0.464821</td>\n",
       "            </tr>\n",
       "            <tr>\n",
       "                        <th id=\"T_93271574_ad49_11ec_86b9_fc777461c7ealevel0_row5\" class=\"row_heading level0 row5\" >50%</th>\n",
       "                        <td id=\"T_93271574_ad49_11ec_86b9_fc777461c7earow5_col0\" class=\"data row5 col0\" >0.031431</td>\n",
       "                        <td id=\"T_93271574_ad49_11ec_86b9_fc777461c7earow5_col1\" class=\"data row5 col1\" >-0.248958</td>\n",
       "                        <td id=\"T_93271574_ad49_11ec_86b9_fc777461c7earow5_col2\" class=\"data row5 col2\" >-0.418239</td>\n",
       "                        <td id=\"T_93271574_ad49_11ec_86b9_fc777461c7earow5_col3\" class=\"data row5 col3\" >-0.501652</td>\n",
       "                        <td id=\"T_93271574_ad49_11ec_86b9_fc777461c7earow5_col4\" class=\"data row5 col4\" >-0.532187</td>\n",
       "                        <td id=\"T_93271574_ad49_11ec_86b9_fc777461c7earow5_col5\" class=\"data row5 col5\" >-0.533562</td>\n",
       "                        <td id=\"T_93271574_ad49_11ec_86b9_fc777461c7earow5_col6\" class=\"data row5 col6\" >-0.520357</td>\n",
       "                        <td id=\"T_93271574_ad49_11ec_86b9_fc777461c7earow5_col7\" class=\"data row5 col7\" >-0.500846</td>\n",
       "                        <td id=\"T_93271574_ad49_11ec_86b9_fc777461c7earow5_col8\" class=\"data row5 col8\" >-0.479444</td>\n",
       "                        <td id=\"T_93271574_ad49_11ec_86b9_fc777461c7earow5_col9\" class=\"data row5 col9\" >-0.458351</td>\n",
       "            </tr>\n",
       "            <tr>\n",
       "                        <th id=\"T_93271574_ad49_11ec_86b9_fc777461c7ealevel0_row6\" class=\"row_heading level0 row6\" >75%</th>\n",
       "                        <td id=\"T_93271574_ad49_11ec_86b9_fc777461c7earow6_col0\" class=\"data row6 col0\" >0.859987</td>\n",
       "                        <td id=\"T_93271574_ad49_11ec_86b9_fc777461c7earow6_col1\" class=\"data row6 col1\" >0.767595</td>\n",
       "                        <td id=\"T_93271574_ad49_11ec_86b9_fc777461c7earow6_col2\" class=\"data row6 col2\" >0.610035</td>\n",
       "                        <td id=\"T_93271574_ad49_11ec_86b9_fc777461c7earow6_col3\" class=\"data row6 col3\" >0.443664</td>\n",
       "                        <td id=\"T_93271574_ad49_11ec_86b9_fc777461c7earow6_col4\" class=\"data row6 col4\" >0.290275</td>\n",
       "                        <td id=\"T_93271574_ad49_11ec_86b9_fc777461c7earow6_col5\" class=\"data row6 col5\" >0.157672</td>\n",
       "                        <td id=\"T_93271574_ad49_11ec_86b9_fc777461c7earow6_col6\" class=\"data row6 col6\" >0.047395</td>\n",
       "                        <td id=\"T_93271574_ad49_11ec_86b9_fc777461c7earow6_col7\" class=\"data row6 col7\" >-0.041850</td>\n",
       "                        <td id=\"T_93271574_ad49_11ec_86b9_fc777461c7earow6_col8\" class=\"data row6 col8\" >-0.112529</td>\n",
       "                        <td id=\"T_93271574_ad49_11ec_86b9_fc777461c7earow6_col9\" class=\"data row6 col9\" >-0.167443</td>\n",
       "            </tr>\n",
       "            <tr>\n",
       "                        <th id=\"T_93271574_ad49_11ec_86b9_fc777461c7ealevel0_row7\" class=\"row_heading level0 row7\" >max</th>\n",
       "                        <td id=\"T_93271574_ad49_11ec_86b9_fc777461c7earow7_col0\" class=\"data row7 col0\" >1.698784</td>\n",
       "                        <td id=\"T_93271574_ad49_11ec_86b9_fc777461c7earow7_col1\" class=\"data row7 col1\" >2.188246</td>\n",
       "                        <td id=\"T_93271574_ad49_11ec_86b9_fc777461c7earow7_col2\" class=\"data row7 col2\" >2.583000</td>\n",
       "                        <td id=\"T_93271574_ad49_11ec_86b9_fc777461c7earow7_col3\" class=\"data row7 col3\" >2.921068</td>\n",
       "                        <td id=\"T_93271574_ad49_11ec_86b9_fc777461c7earow7_col4\" class=\"data row7 col4\" >3.220261</td>\n",
       "                        <td id=\"T_93271574_ad49_11ec_86b9_fc777461c7earow7_col5\" class=\"data row7 col5\" >3.490518</td>\n",
       "                        <td id=\"T_93271574_ad49_11ec_86b9_fc777461c7earow7_col6\" class=\"data row7 col6\" >3.738048</td>\n",
       "                        <td id=\"T_93271574_ad49_11ec_86b9_fc777461c7earow7_col7\" class=\"data row7 col7\" >3.967089</td>\n",
       "                        <td id=\"T_93271574_ad49_11ec_86b9_fc777461c7earow7_col8\" class=\"data row7 col8\" >4.180729</td>\n",
       "                        <td id=\"T_93271574_ad49_11ec_86b9_fc777461c7earow7_col9\" class=\"data row7 col9\" >4.381315</td>\n",
       "            </tr>\n",
       "    </tbody></table>"
      ],
      "text/plain": [
       "<pandas.io.formats.style.Styler at 0x2572064f850>"
      ]
     },
     "execution_count": 116,
     "metadata": {},
     "output_type": "execute_result"
    }
   ],
   "source": [
    "# after scaling, you can see, for each column, the mean = 0 and std. deviation = 1.\n",
    "\n",
    "X_train_scaled.describe().style.apply(lambda x: ['background: lightgreen' \n",
    "                                  if (x.name == 'mean' or x.name == 'std')\n",
    "                                  else '' for i in x], axis=1)"
   ]
  },
  {
   "cell_type": "code",
   "execution_count": 117,
   "metadata": {},
   "outputs": [
    {
     "data": {
      "text/plain": [
       "2"
      ]
     },
     "execution_count": 117,
     "metadata": {},
     "output_type": "execute_result"
    }
   ],
   "source": [
    "# PCA on X_train_scaled (training data after scaling)\n",
    "\n",
    "pca = PCA(n_components=0.95) # fraction of the variance you wish to capture\n",
    "#pca = PCA(n_components=2)  #specify number of components\n",
    "\n",
    "pca.fit(X_train_scaled)\n",
    "pca.n_components_\n",
    "\n",
    "#looks like only 2 PCA components are sufficient to capture 95% of the variance in 10 columns."
   ]
  },
  {
   "cell_type": "code",
   "execution_count": 118,
   "metadata": {},
   "outputs": [
    {
     "data": {
      "text/plain": [
       "<matplotlib.axes._subplots.AxesSubplot at 0x25721de4640>"
      ]
     },
     "execution_count": 118,
     "metadata": {},
     "output_type": "execute_result"
    },
    {
     "data": {
      "image/png": "[encoded data removed]",
      "text/plain": [
       "<Figure size 432x288 with 1 Axes>"
      ]
     },
     "metadata": {
      "needs_background": "light"
     },
     "output_type": "display_data"
    }
   ],
   "source": [
    "# percentage of variance explained by each component\n",
    "#print(pca.explained_variance_ratio_)\n",
    "pd.DataFrame(pca.explained_variance_ratio_).plot.bar()"
   ]
  },
  {
   "cell_type": "code",
   "execution_count": 149,
   "metadata": {},
   "outputs": [],
   "source": [
    "# create a dataframe with the PCA components for training and validation data\n",
    "\n",
    "X_train_scaled_pca = pd.DataFrame(pca.transform(X_train_scaled))\n",
    "X_valid_scaled_pca = pd.DataFrame(pca.transform(X_valid_scaled))"
   ]
  },
  {
   "cell_type": "code",
   "execution_count": 150,
   "metadata": {},
   "outputs": [
    {
     "data": {
      "text/html": [
       "<div>\n",
       "<style scoped>\n",
       "    .dataframe tbody tr th:only-of-type {\n",
       "        vertical-align: middle;\n",
       "    }\n",
       "\n",
       "    .dataframe tbody tr th {\n",
       "        vertical-align: top;\n",
       "    }\n",
       "\n",
       "    .dataframe thead th {\n",
       "        text-align: right;\n",
       "    }\n",
       "</style>\n",
       "<table border=\"1\" class=\"dataframe\">\n",
       "  <thead>\n",
       "    <tr style=\"text-align: right;\">\n",
       "      <th></th>\n",
       "      <th>0</th>\n",
       "      <th>1</th>\n",
       "    </tr>\n",
       "  </thead>\n",
       "  <tbody>\n",
       "    <tr>\n",
       "      <th>0</th>\n",
       "      <td>9.735508</td>\n",
       "      <td>2.034531</td>\n",
       "    </tr>\n",
       "    <tr>\n",
       "      <th>1</th>\n",
       "      <td>-1.130228</td>\n",
       "      <td>-0.564740</td>\n",
       "    </tr>\n",
       "    <tr>\n",
       "      <th>2</th>\n",
       "      <td>3.685267</td>\n",
       "      <td>-0.628846</td>\n",
       "    </tr>\n",
       "    <tr>\n",
       "      <th>3</th>\n",
       "      <td>-2.028349</td>\n",
       "      <td>0.412389</td>\n",
       "    </tr>\n",
       "    <tr>\n",
       "      <th>4</th>\n",
       "      <td>-0.881300</td>\n",
       "      <td>-0.720676</td>\n",
       "    </tr>\n",
       "  </tbody>\n",
       "</table>\n",
       "</div>"
      ],
      "text/plain": [
       "          0         1\n",
       "0  9.735508  2.034531\n",
       "1 -1.130228 -0.564740\n",
       "2  3.685267 -0.628846\n",
       "3 -2.028349  0.412389\n",
       "4 -0.881300 -0.720676"
      ]
     },
     "execution_count": 150,
     "metadata": {},
     "output_type": "execute_result"
    }
   ],
   "source": [
    "X_train_scaled_pca.head()"
   ]
  },
  {
   "cell_type": "code",
   "execution_count": 141,
   "metadata": {},
   "outputs": [
    {
     "data": {
      "text/plain": [
       "<matplotlib.collections.PathCollection at 0x257221c5490>"
      ]
     },
     "execution_count": 141,
     "metadata": {},
     "output_type": "execute_result"
    },
    {
     "data": {
      "image/png": "[encoded data removed]",
      "text/plain": [
       "<Figure size 432x288 with 1 Axes>"
      ]
     },
     "metadata": {
      "needs_background": "light"
     },
     "output_type": "display_data"
    }
   ],
   "source": [
    "# plot between the original randomly generated numbers and the target\n",
    "plt.scatter(x=X_train[0], y=y_train)"
   ]
  },
  {
   "cell_type": "code",
   "execution_count": 142,
   "metadata": {},
   "outputs": [
    {
     "data": {
      "text/plain": [
       "<matplotlib.collections.PathCollection at 0x25722214490>"
      ]
     },
     "execution_count": 142,
     "metadata": {},
     "output_type": "execute_result"
    },
    {
     "data": {
      "image/png": "[encoded data removed]",
      "text/plain": [
       "<Figure size 432x288 with 1 Axes>"
      ]
     },
     "metadata": {
      "needs_background": "light"
     },
     "output_type": "display_data"
    }
   ],
   "source": [
    "# plot between the 1st PCA component and the target\n",
    "plt.scatter(x=X_train_scaled_pca[0], y=y_train)"
   ]
  },
  {
   "cell_type": "code",
   "execution_count": 143,
   "metadata": {},
   "outputs": [
    {
     "data": {
      "text/plain": [
       "<matplotlib.collections.PathCollection at 0x25722263790>"
      ]
     },
     "execution_count": 143,
     "metadata": {},
     "output_type": "execute_result"
    },
    {
     "data": {
      "image/png": "[encoded data removed]",
      "text/plain": [
       "<Figure size 432x288 with 1 Axes>"
      ]
     },
     "metadata": {
      "needs_background": "light"
     },
     "output_type": "display_data"
    }
   ],
   "source": [
    "# plot between the 2nd PCA component and the target\n",
    "plt.scatter(x=X_train_scaled_pca[1], y=y_train)"
   ]
  },
  {
   "cell_type": "code",
   "execution_count": 171,
   "metadata": {},
   "outputs": [],
   "source": [
    "# train with the original training data (pre-scaling and pre-PCA) using linear regression\n",
    "\n",
    "import sklearn.linear_model as lm\n",
    "from sklearn.metrics import mean_absolute_error\n",
    "\n",
    "regressor = lm.LinearRegression()\n",
    "regressor.fit(X_train,y_train)\n",
    "y_predicted = regressor.predict(X_valid)"
   ]
  },
  {
   "cell_type": "code",
   "execution_count": 170,
   "metadata": {},
   "outputs": [],
   "source": [
    "regressor_scaled_pca = lm.LinearRegression()\n",
    "regressor_scaled_pca.fit(X_train_scaled_pca,y_train)\n",
    "y_scaled_pca_predicted = regressor_scaled_pca.predict(X_valid_scaled_pca)"
   ]
  },
  {
   "cell_type": "code",
   "execution_count": 158,
   "metadata": {},
   "outputs": [
    {
     "data": {
      "text/plain": [
       "array([0.99999909, 0.99999958, 1.00000068, 0.99999958, 1.00000016,\n",
       "       0.99999996, 1.00000001, 1.        , 1.        , 1.        ])"
      ]
     },
     "execution_count": 158,
     "metadata": {},
     "output_type": "execute_result"
    }
   ],
   "source": [
    "# Our target is the sum of all input featues.\n",
    "# We can see that the regression model has accuralely estimated the coefficients as 1 for all the input features.\n",
    "regressor.coef_"
   ]
  },
  {
   "cell_type": "code",
   "execution_count": 159,
   "metadata": {},
   "outputs": [
    {
     "data": {
      "text/plain": [
       "1.1920928955078125e-06"
      ]
     },
     "execution_count": 159,
     "metadata": {},
     "output_type": "execute_result"
    }
   ],
   "source": [
    "# the regression intercept is almost 0, as expected.\n",
    "\n",
    "regressor.intercept_"
   ]
  },
  {
   "cell_type": "code",
   "execution_count": 167,
   "metadata": {},
   "outputs": [
    {
     "data": {
      "text/plain": [
       "<matplotlib.legend.Legend at 0x257224dddc0>"
      ]
     },
     "execution_count": 167,
     "metadata": {},
     "output_type": "execute_result"
    },
    {
     "data": {
      "image/png": "[encoded data removed]",
      "text/plain": [
       "<Figure size 432x288 with 1 Axes>"
      ]
     },
     "metadata": {
      "needs_background": "light"
     },
     "output_type": "display_data"
    }
   ],
   "source": [
    "# For validation data, plot the values of actual target and predicted target.\n",
    "# Since we are using all 10 input features to predict the target,\n",
    "# linear regression does an excellent job at predicting the output.\n",
    "# The predicted and target values almost exactly OVERLAP, when we used the original input features to predict the target. \n",
    "\n",
    "plt.scatter(x=X_valid[0], y=y_valid, label='Actual')\n",
    "plt.scatter(x=X_valid[0], y=y_predicted, label='Predicted')\n",
    "plt.grid(True)\n",
    "plt.ylabel('Target')\n",
    "plt.xlabel('Feature')\n",
    "plt.legend()"
   ]
  },
  {
   "cell_type": "code",
   "execution_count": 169,
   "metadata": {},
   "outputs": [
    {
     "data": {
      "text/plain": [
       "<matplotlib.legend.Legend at 0x257235bf820>"
      ]
     },
     "execution_count": 169,
     "metadata": {},
     "output_type": "execute_result"
    },
    {
     "data": {
      "image/png": "[encoded data removed]",
      "text/plain": [
       "<Figure size 432x288 with 1 Axes>"
      ]
     },
     "metadata": {
      "needs_background": "light"
     },
     "output_type": "display_data"
    }
   ],
   "source": [
    "# this is a plot similar to the one above, but comparing the target values with the values predicted using PCA components.\n",
    "# In this case, only 2 PCA components were able to capture 95% of the variance and generate predicitons similar to the\n",
    "# model using 10 features.\n",
    "\n",
    "plt.scatter(x=X_valid[0], y=y_valid, label='Actual')\n",
    "plt.scatter(x=X_valid[0], y=y_scaled_pca_predicted, label='Predicted_Scaled_PCA')\n",
    "plt.grid(True)\n",
    "plt.ylabel('Target')\n",
    "plt.xlabel('Feature')\n",
    "plt.legend()"
   ]
  }
 ],
 "metadata": {
  "kernelspec": {
   "display_name": "Python 3",
   "language": "python",
   "name": "python3"
  },
  "language_info": {
   "codemirror_mode": {
    "name": "ipython",
    "version": 3
   },
   "file_extension": ".py",
   "mimetype": "text/x-python",
   "name": "python",
   "nbconvert_exporter": "python",
   "pygments_lexer": "ipython3",
   "version": "3.8.3"
  }
 },
 "nbformat": 4,
 "nbformat_minor": 4
}
